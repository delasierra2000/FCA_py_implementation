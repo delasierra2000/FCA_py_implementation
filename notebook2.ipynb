{
 "cells": [
  {
   "cell_type": "markdown",
   "metadata": {},
   "source": [
    "## Importamos las funciones y cargamos la tabla"
   ]
  },
  {
   "cell_type": "code",
   "execution_count": 1,
   "metadata": {},
   "outputs": [],
   "source": [
    "import functions as f"
   ]
  },
  {
   "cell_type": "code",
   "execution_count": 2,
   "metadata": {},
   "outputs": [],
   "source": [
    "df=f.obtain_matrix('./Tables/peces.txt')"
   ]
  },
  {
   "cell_type": "markdown",
   "metadata": {},
   "source": [
    "### <u>Algoritmo</u>"
   ]
  },
  {
   "cell_type": "code",
   "execution_count": 3,
   "metadata": {},
   "outputs": [
    {
     "name": "stdout",
     "output_type": "stream",
     "text": [
      "+----+--------------+-----------------------------------------------+-----------------+\n",
      "|    |  ATTRIBUTES  |                    OBJECTS                    |  INTERSECTIONS  |\n",
      "+====+==============+===============================================+=================+\n",
      "| 0  |      []      | ['Obj 1', 'Obj 2', 'Obj 3', 'Obj 4', 'Obj 5'] |                 |\n",
      "+----+--------------+-----------------------------------------------+-----------------+\n",
      "| 1  | ['Litoral']  |     ['Obj 2', 'Obj 3', 'Obj 4', 'Obj 5']      |                 |\n",
      "+----+--------------+-----------------------------------------------+-----------------+\n",
      "| 2  | ['Fluvial']  |          ['Obj 1', 'Obj 2', 'Obj 5']          |                 |\n",
      "+----+--------------+-----------------------------------------------+-----------------+\n",
      "| 3  |      []      |              ['Obj 5', 'Obj 2']               |     [2, 1]      |\n",
      "+----+--------------+-----------------------------------------------+-----------------+\n",
      "| 4  |  ['Oceano']  |          ['Obj 3', 'Obj 4', 'Obj 5']          |                 |\n",
      "+----+--------------+-----------------------------------------------+-----------------+\n",
      "| 5  |      []      |                   ['Obj 5']                   |     [4, 2]      |\n",
      "+----+--------------+-----------------------------------------------+-----------------+\n"
     ]
    }
   ],
   "source": [
    "f.show_algorithm(df)"
   ]
  },
  {
   "cell_type": "markdown",
   "metadata": {},
   "source": [
    "### <u>Ver conceptos</u>"
   ]
  },
  {
   "cell_type": "code",
   "execution_count": 4,
   "metadata": {},
   "outputs": [
    {
     "name": "stdout",
     "output_type": "stream",
     "text": [
      "+----+-----------------------------------------------+----------------------------------+\n",
      "|    |                    OBJECTS                    |            ATTRIBUTES            |\n",
      "+====+===============================================+==================================+\n",
      "| 0  | ['Obj 1', 'Obj 2', 'Obj 3', 'Obj 4', 'Obj 5'] |                []                |\n",
      "+----+-----------------------------------------------+----------------------------------+\n",
      "| 1  |     ['Obj 2', 'Obj 3', 'Obj 4', 'Obj 5']      |           ['Litoral']            |\n",
      "+----+-----------------------------------------------+----------------------------------+\n",
      "| 2  |          ['Obj 1', 'Obj 2', 'Obj 5']          |           ['Fluvial']            |\n",
      "+----+-----------------------------------------------+----------------------------------+\n",
      "| 3  |              ['Obj 5', 'Obj 2']               |      ['Fluvial', 'Litoral']      |\n",
      "+----+-----------------------------------------------+----------------------------------+\n",
      "| 4  |          ['Obj 3', 'Obj 4', 'Obj 5']          |      ['Litoral', 'Oceano']       |\n",
      "+----+-----------------------------------------------+----------------------------------+\n",
      "| 5  |                   ['Obj 5']                   | ['Fluvial', 'Litoral', 'Oceano'] |\n",
      "+----+-----------------------------------------------+----------------------------------+\n"
     ]
    }
   ],
   "source": [
    "f.show_concepts(df)"
   ]
  },
  {
   "cell_type": "markdown",
   "metadata": {},
   "source": [
    "### <u>Clasificación de atributos</u>"
   ]
  },
  {
   "cell_type": "code",
   "execution_count": 5,
   "metadata": {},
   "outputs": [
    {
     "name": "stdout",
     "output_type": "stream",
     "text": [
      "+------------+----------------------------------+------------------------+---------------+\n",
      "|            |       Absolutely Necessary       |  Relatively Necessary  |  Unnecessary  |\n",
      "+============+==================================+========================+===============+\n",
      "| ATTRIBUTES | ['Litoral', 'Fluvial', 'Oceano'] |           []           |      []       |\n",
      "+------------+----------------------------------+------------------------+---------------+\n"
     ]
    }
   ],
   "source": [
    "f.show_att_clasification(df)"
   ]
  },
  {
   "cell_type": "markdown",
   "metadata": {},
   "source": [
    "### <u>Clasificación de objetos</u>"
   ]
  },
  {
   "cell_type": "code",
   "execution_count": 6,
   "metadata": {},
   "outputs": [
    {
     "name": "stdout",
     "output_type": "stream",
     "text": [
      "+---------+-----------------------------+------------------------+---------------+\n",
      "|         |    Absolutely Necessary     |  Relatively Necessary  |  Unnecessary  |\n",
      "+=========+=============================+========================+===============+\n",
      "| OBJECTS | ['Obj 5', 'Obj 2', 'Obj 1'] |   ['Obj 3', 'Obj 4']   |      []       |\n",
      "+---------+-----------------------------+------------------------+---------------+\n"
     ]
    }
   ],
   "source": [
    "f.show_obj_clasification(df)"
   ]
  },
  {
   "cell_type": "markdown",
   "metadata": {},
   "source": [
    "### <u>Conjunto de los conceptos ínfimo irreducibles</u>"
   ]
  },
  {
   "cell_type": "code",
   "execution_count": 7,
   "metadata": {},
   "outputs": [
    {
     "name": "stdout",
     "output_type": "stream",
     "text": [
      "+----+--------------------------------------+-----------------------+\n",
      "|    |               OBJECTS                |      ATTRIBUTES       |\n",
      "+====+======================================+=======================+\n",
      "| 0  | ['Obj 2', 'Obj 3', 'Obj 4', 'Obj 5'] |      ['Litoral']      |\n",
      "+----+--------------------------------------+-----------------------+\n",
      "| 1  |     ['Obj 1', 'Obj 2', 'Obj 5']      |      ['Fluvial']      |\n",
      "+----+--------------------------------------+-----------------------+\n",
      "| 2  |     ['Obj 3', 'Obj 4', 'Obj 5']      | ['Litoral', 'Oceano'] |\n",
      "+----+--------------------------------------+-----------------------+\n"
     ]
    }
   ],
   "source": [
    "f.show_Mf(df)"
   ]
  },
  {
   "cell_type": "markdown",
   "metadata": {},
   "source": [
    "### <u>Conjunto de los conceptos supremo irreducibles</u>"
   ]
  },
  {
   "cell_type": "code",
   "execution_count": 8,
   "metadata": {},
   "outputs": [
    {
     "name": "stdout",
     "output_type": "stream",
     "text": [
      "+----+-----------------------------+------------------------+\n",
      "|    |           OBJECTS           |       ATTRIBUTES       |\n",
      "+====+=============================+========================+\n",
      "| 0  |     ['Obj 2', 'Obj 5']      | ['Fluvial', 'Litoral'] |\n",
      "+----+-----------------------------+------------------------+\n",
      "| 1  | ['Obj 3', 'Obj 4', 'Obj 5'] | ['Litoral', 'Oceano']  |\n",
      "+----+-----------------------------+------------------------+\n",
      "| 2  | ['Obj 1', 'Obj 2', 'Obj 5'] |      ['Fluvial']       |\n",
      "+----+-----------------------------+------------------------+\n"
     ]
    }
   ],
   "source": [
    "f.show_Jf(df)"
   ]
  },
  {
   "cell_type": "markdown",
   "metadata": {},
   "source": [
    "### <u>Implicaciones</u>"
   ]
  },
  {
   "cell_type": "code",
   "execution_count": 9,
   "metadata": {},
   "outputs": [
    {
     "data": {
      "text/plain": [
       "True"
      ]
     },
     "execution_count": 9,
     "metadata": {},
     "output_type": "execute_result"
    }
   ],
   "source": [
    "f.satisfies([1,2,3],[1,2,3,4],[1,4,3])"
   ]
  },
  {
   "cell_type": "code",
   "execution_count": 10,
   "metadata": {},
   "outputs": [
    {
     "data": {
      "text/plain": [
       "False"
      ]
     },
     "execution_count": 10,
     "metadata": {},
     "output_type": "execute_result"
    }
   ],
   "source": [
    "f.set_satisfies([[1,2,3],[1,2],[3,4,5],[1,2,3,4,5]],[1,2,3,4],[1,4,7])"
   ]
  },
  {
   "cell_type": "code",
   "execution_count": 11,
   "metadata": {},
   "outputs": [
    {
     "data": {
      "text/plain": [
       "False"
      ]
     },
     "execution_count": 11,
     "metadata": {},
     "output_type": "execute_result"
    }
   ],
   "source": [
    "f.valid(df,['Litoral', 'Oceano'],['Litoral','Fluvial'])"
   ]
  }
 ],
 "metadata": {
  "kernelspec": {
   "display_name": "Python 3",
   "language": "python",
   "name": "python3"
  },
  "language_info": {
   "codemirror_mode": {
    "name": "ipython",
    "version": 3
   },
   "file_extension": ".py",
   "mimetype": "text/x-python",
   "name": "python",
   "nbconvert_exporter": "python",
   "pygments_lexer": "ipython3",
   "version": "3.11.9"
  }
 },
 "nbformat": 4,
 "nbformat_minor": 2
}
