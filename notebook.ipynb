{
 "cells": [
  {
   "cell_type": "code",
   "execution_count": 4,
   "metadata": {},
   "outputs": [],
   "source": [
    "import functions as f"
   ]
  },
  {
   "cell_type": "markdown",
   "metadata": {},
   "source": [
    "# Mostramos la matriz de peces.txt"
   ]
  },
  {
   "cell_type": "code",
   "execution_count": 2,
   "metadata": {},
   "outputs": [
    {
     "name": "stdout",
     "output_type": "stream",
     "text": [
      "             Fluvial  Litoral  Oceano\n",
      "Carpa              1        0       0\n",
      "Escatofagus        1        1       0\n",
      "Sargo              0        1       1\n",
      "Dorada             0        1       1\n",
      "Anguila            1        1       1\n"
     ]
    }
   ],
   "source": [
    "df=f.obtain_matrix('./Tables/peces.txt',['Carpa','Escatofagus','Sargo','Dorada','Anguila'])\n",
    "\n",
    "print(df)"
   ]
  },
  {
   "cell_type": "code",
   "execution_count": 3,
   "metadata": {},
   "outputs": [
    {
     "name": "stdout",
     "output_type": "stream",
     "text": [
      "['Litoral', 'Oceano']\n",
      "['Litoral', 'Oceano']\n"
     ]
    }
   ],
   "source": [
    "print(f.intension(df,['Sargo','Anguila']))\n",
    "print(f.intension(df,f.extension(df,f.intension(df,['Sargo','Anguila']))))"
   ]
  },
  {
   "cell_type": "code",
   "execution_count": 4,
   "metadata": {},
   "outputs": [
    {
     "name": "stdout",
     "output_type": "stream",
     "text": [
      "['Sargo', 'Anguila']\n",
      "['Sargo', 'Dorada', 'Anguila']\n"
     ]
    }
   ],
   "source": [
    "print(['Sargo','Anguila'])\n",
    "print(f.extension(df,f.intension(df,['Sargo','Anguila'])))"
   ]
  },
  {
   "cell_type": "markdown",
   "metadata": {},
   "source": [
    "# EJERCICIO 2.13: <u>Contraejemplo de las otras dos igualdades</u>"
   ]
  },
  {
   "cell_type": "code",
   "execution_count": 5,
   "metadata": {},
   "outputs": [
    {
     "name": "stdout",
     "output_type": "stream",
     "text": [
      "   c  d\n",
      "a  1  0\n",
      "b  0  0\n"
     ]
    }
   ],
   "source": [
    "df2=f.obtain_matrix('./Tables/contraejemplo2.txt',['a','b'])\n",
    "\n",
    "print(df2)"
   ]
  },
  {
   "cell_type": "markdown",
   "metadata": {},
   "source": [
    "### <u>Igualdad 1</u>"
   ]
  },
  {
   "cell_type": "markdown",
   "metadata": {},
   "source": [
    "$\\cup_{j\\in J} X'_{j} = (\\cap_{j\\in J} X_{j})'$\n",
    "\n",
    "$X_{1} =\\{ a \\}, X_{2} =\\{ b \\}$\n",
    "\n",
    "$X_{1} \\cap X_{2} = \\emptyset$"
   ]
  },
  {
   "cell_type": "markdown",
   "metadata": {},
   "source": [
    "Calculemos la intensión de $X_{1} \\cap X_{2}$\n",
    "\n",
    "$(X_{1} \\cap X_{2})'=\\{c,d\\}$"
   ]
  },
  {
   "cell_type": "code",
   "execution_count": 6,
   "metadata": {},
   "outputs": [
    {
     "data": {
      "text/plain": [
       "['c', 'd']"
      ]
     },
     "execution_count": 6,
     "metadata": {},
     "output_type": "execute_result"
    }
   ],
   "source": [
    "f.intension(df2,[])"
   ]
  },
  {
   "cell_type": "markdown",
   "metadata": {},
   "source": [
    "Calculemos la intensión de $X_{1}$ y $X_{2}$\n",
    "\n",
    "$X_{1}'=\\{c\\}, X_{2}'=\\emptyset$\n",
    "\n",
    "$X_{1}' \\cup X_{2}' = \\{c\\}$"
   ]
  },
  {
   "cell_type": "code",
   "execution_count": 7,
   "metadata": {},
   "outputs": [
    {
     "name": "stdout",
     "output_type": "stream",
     "text": [
      "['c']\n",
      "[]\n"
     ]
    }
   ],
   "source": [
    "print(f.intension(df2,['a']))\n",
    "print(f.intension(df2,['b']))"
   ]
  },
  {
   "cell_type": "markdown",
   "metadata": {},
   "source": [
    "### <u>Igualdad 2</u>"
   ]
  },
  {
   "cell_type": "markdown",
   "metadata": {},
   "source": [
    "$\\cup_{j\\in J} Y'_{j} = (\\cap_{j\\in J} Y_{j})'$\n",
    "\n",
    "$Y_{1} =\\{ c \\}, Y_{2} =\\{ d \\}$\n",
    "\n",
    "$Y_{1} \\cap Y_{2} = \\emptyset$"
   ]
  },
  {
   "cell_type": "markdown",
   "metadata": {},
   "source": [
    "Calculemos la extensión de $Y_{1} \\cap Y_{2}$\n",
    "\n",
    "$(Y_{1} \\cap Y_{2})'=\\{a,b\\}$"
   ]
  },
  {
   "cell_type": "code",
   "execution_count": 8,
   "metadata": {},
   "outputs": [
    {
     "data": {
      "text/plain": [
       "['a', 'b']"
      ]
     },
     "execution_count": 8,
     "metadata": {},
     "output_type": "execute_result"
    }
   ],
   "source": [
    "f.extension(df2,[])"
   ]
  },
  {
   "cell_type": "markdown",
   "metadata": {},
   "source": [
    "Calculemos la extensión de $Y_{1}$ y $Y_{2}$\n",
    "\n",
    "$Y_{1}'=\\{a\\}, Y_{2}'=\\emptyset$\n",
    "\n",
    "$Y_{1}' \\cup Y_{2}' = \\{a\\}$"
   ]
  },
  {
   "cell_type": "code",
   "execution_count": 9,
   "metadata": {},
   "outputs": [
    {
     "name": "stdout",
     "output_type": "stream",
     "text": [
      "['a']\n",
      "[]\n"
     ]
    }
   ],
   "source": [
    "print(f.extension(df2,['c']))\n",
    "print(f.extension(df2,['d']))"
   ]
  },
  {
   "cell_type": "code",
   "execution_count": 10,
   "metadata": {},
   "outputs": [
    {
     "data": {
      "text/plain": [
       "(['Carpa', 'Escatofagus', 'Anguila'], ['Fluvial'])"
      ]
     },
     "execution_count": 10,
     "metadata": {},
     "output_type": "execute_result"
    }
   ],
   "source": [
    "f.gamma(df,'Carpa')"
   ]
  },
  {
   "cell_type": "code",
   "execution_count": 5,
   "metadata": {},
   "outputs": [
    {
     "name": "stdout",
     "output_type": "stream",
     "text": [
      "<bound method IndexOpsMixin.tolist of Index(['Fluvial', 'Litoral', 'Oceano'], dtype='object')> <bound method IndexOpsMixin.tolist of Index(['Carpa', 'Escatofagus', 'Sargo', 'Dorada', 'Anguila'], dtype='object')>\n"
     ]
    }
   ],
   "source": [
    "f.obtain_concepts(df)"
   ]
  }
 ],
 "metadata": {
  "kernelspec": {
   "display_name": "Python 3",
   "language": "python",
   "name": "python3"
  },
  "language_info": {
   "codemirror_mode": {
    "name": "ipython",
    "version": 3
   },
   "file_extension": ".py",
   "mimetype": "text/x-python",
   "name": "python",
   "nbconvert_exporter": "python",
   "pygments_lexer": "ipython3",
   "version": "3.11.9"
  }
 },
 "nbformat": 4,
 "nbformat_minor": 2
}
