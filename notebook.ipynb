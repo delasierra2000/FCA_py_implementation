{
 "cells": [
  {
   "cell_type": "code",
   "execution_count": 1,
   "metadata": {},
   "outputs": [],
   "source": [
    "import functions as f"
   ]
  },
  {
   "cell_type": "markdown",
   "metadata": {},
   "source": [
    "# Mostramos la matriz de peces.txt"
   ]
  },
  {
   "cell_type": "code",
   "execution_count": 2,
   "metadata": {},
   "outputs": [
    {
     "name": "stdout",
     "output_type": "stream",
     "text": [
      "             Fluvial  Litoral  Oceano\n",
      "Carpa              1        0       0\n",
      "Escatofagus        1        1       0\n",
      "Sargo              0        1       1\n",
      "Dorada             0        1       1\n",
      "Anguila            1        1       1\n"
     ]
    }
   ],
   "source": [
    "df=f.obtain_matrix('./Tables/peces.txt',['Carpa','Escatofagus','Sargo','Dorada','Anguila'])\n",
    "\n",
    "print(df)"
   ]
  },
  {
   "cell_type": "code",
   "execution_count": 3,
   "metadata": {},
   "outputs": [
    {
     "name": "stdout",
     "output_type": "stream",
     "text": [
      "['Litoral', 'Oceano']\n",
      "['Litoral', 'Oceano']\n"
     ]
    }
   ],
   "source": [
    "print(f.intension(df,['Sargo','Anguila']))\n",
    "print(f.intension(df,f.extension(df,f.intension(df,['Sargo','Anguila']))))"
   ]
  },
  {
   "cell_type": "code",
   "execution_count": 4,
   "metadata": {},
   "outputs": [
    {
     "name": "stdout",
     "output_type": "stream",
     "text": [
      "['Sargo', 'Anguila']\n",
      "['Sargo', 'Dorada', 'Anguila']\n"
     ]
    }
   ],
   "source": [
    "print(['Sargo','Anguila'])\n",
    "print(f.extension(df,f.intension(df,['Sargo','Anguila'])))"
   ]
  },
  {
   "cell_type": "markdown",
   "metadata": {},
   "source": [
    "# EJERCICIO 2.13: <u>Contraejemplo de las otras dos igualdades</u>"
   ]
  },
  {
   "cell_type": "code",
   "execution_count": 5,
   "metadata": {},
   "outputs": [
    {
     "name": "stdout",
     "output_type": "stream",
     "text": [
      "   c  d\n",
      "a  1  0\n",
      "b  0  0\n"
     ]
    }
   ],
   "source": [
    "df2=f.obtain_matrix('./Tables/contraejemplo2.txt',['a','b'])\n",
    "\n",
    "print(df2)"
   ]
  },
  {
   "cell_type": "markdown",
   "metadata": {},
   "source": [
    "### <u>Igualdad 1</u>"
   ]
  },
  {
   "cell_type": "markdown",
   "metadata": {},
   "source": [
    "$\\cup_{j\\in J} X'_{j} = (\\cap_{j\\in J} X_{j})'$\n",
    "\n",
    "$X_{1} =\\{ a \\}, X_{2} =\\{ b \\}$\n",
    "\n",
    "$X_{1} \\cap X_{2} = \\emptyset$"
   ]
  },
  {
   "cell_type": "markdown",
   "metadata": {},
   "source": [
    "Calculemos la intensión de $X_{1} \\cap X_{2}$\n",
    "\n",
    "$(X_{1} \\cap X_{2})'=\\{c,d\\}$"
   ]
  },
  {
   "cell_type": "code",
   "execution_count": 6,
   "metadata": {},
   "outputs": [
    {
     "data": {
      "text/plain": [
       "['c', 'd']"
      ]
     },
     "execution_count": 6,
     "metadata": {},
     "output_type": "execute_result"
    }
   ],
   "source": [
    "f.intension(df2,[])"
   ]
  },
  {
   "cell_type": "markdown",
   "metadata": {},
   "source": [
    "Calculemos la intensión de $X_{1}$ y $X_{2}$\n",
    "\n",
    "$X_{1}'=\\{c\\}, X_{2}'=\\emptyset$\n",
    "\n",
    "$X_{1}' \\cup X_{2}' = \\{c\\}$"
   ]
  },
  {
   "cell_type": "code",
   "execution_count": 7,
   "metadata": {},
   "outputs": [
    {
     "name": "stdout",
     "output_type": "stream",
     "text": [
      "['c']\n",
      "[]\n"
     ]
    }
   ],
   "source": [
    "print(f.intension(df2,['a']))\n",
    "print(f.intension(df2,['b']))"
   ]
  },
  {
   "cell_type": "markdown",
   "metadata": {},
   "source": [
    "### <u>Igualdad 2</u>"
   ]
  },
  {
   "cell_type": "markdown",
   "metadata": {},
   "source": [
    "$\\cup_{j\\in J} Y'_{j} = (\\cap_{j\\in J} Y_{j})'$\n",
    "\n",
    "$Y_{1} =\\{ c \\}, Y_{2} =\\{ d \\}$\n",
    "\n",
    "$Y_{1} \\cap Y_{2} = \\emptyset$"
   ]
  },
  {
   "cell_type": "markdown",
   "metadata": {},
   "source": [
    "Calculemos la extensión de $Y_{1} \\cap Y_{2}$\n",
    "\n",
    "$(Y_{1} \\cap Y_{2})'=\\{a,b\\}$"
   ]
  },
  {
   "cell_type": "code",
   "execution_count": 8,
   "metadata": {},
   "outputs": [
    {
     "data": {
      "text/plain": [
       "['a', 'b']"
      ]
     },
     "execution_count": 8,
     "metadata": {},
     "output_type": "execute_result"
    }
   ],
   "source": [
    "f.extension(df2,[])"
   ]
  },
  {
   "cell_type": "markdown",
   "metadata": {},
   "source": [
    "Calculemos la extensión de $Y_{1}$ y $Y_{2}$\n",
    "\n",
    "$Y_{1}'=\\{a\\}, Y_{2}'=\\emptyset$\n",
    "\n",
    "$Y_{1}' \\cup Y_{2}' = \\{a\\}$"
   ]
  },
  {
   "cell_type": "code",
   "execution_count": 9,
   "metadata": {},
   "outputs": [
    {
     "name": "stdout",
     "output_type": "stream",
     "text": [
      "['a']\n",
      "[]\n"
     ]
    }
   ],
   "source": [
    "print(f.extension(df2,['c']))\n",
    "print(f.extension(df2,['d']))"
   ]
  },
  {
   "cell_type": "code",
   "execution_count": 10,
   "metadata": {},
   "outputs": [
    {
     "data": {
      "text/plain": [
       "(['Carpa', 'Escatofagus', 'Anguila'], ['Fluvial'])"
      ]
     },
     "execution_count": 10,
     "metadata": {},
     "output_type": "execute_result"
    }
   ],
   "source": [
    "f.gamma(df,'Carpa')"
   ]
  },
  {
   "cell_type": "markdown",
   "metadata": {},
   "source": [
    "# Session 10: <u>Algorithm</u>"
   ]
  },
  {
   "cell_type": "code",
   "execution_count": 23,
   "metadata": {},
   "outputs": [],
   "source": [
    "df=f.obtain_matrix('./Tables/TablaApuntes.txt')"
   ]
  },
  {
   "cell_type": "markdown",
   "metadata": {},
   "source": [
    "### <u>Algoritmo</u>"
   ]
  },
  {
   "cell_type": "code",
   "execution_count": 24,
   "metadata": {},
   "outputs": [
    {
     "name": "stdout",
     "output_type": "stream",
     "text": [
      "+----+----------------------+--------------------------------------------------------+-----------------+\n",
      "|    |      ATTRIBUTES      |                        OBJECTS                         |  INTERSECTIONS  |\n",
      "+====+======================+========================================================+=================+\n",
      "| 0  |          []          | ['Obj 1', 'Obj 2', 'Obj 3', 'Obj 4', 'Obj 5', 'Obj 6'] |                 |\n",
      "+----+----------------------+--------------------------------------------------------+-----------------+\n",
      "| 1  |      ['Attr 1']      |     ['Obj 1', 'Obj 2', 'Obj 3', 'Obj 4', 'Obj 6']      |                 |\n",
      "+----+----------------------+--------------------------------------------------------+-----------------+\n",
      "| 2  | ['Attr 2', 'Attr 4'] |          ['Obj 1', 'Obj 2', 'Obj 3', 'Obj 5']          |                 |\n",
      "+----+----------------------+--------------------------------------------------------+-----------------+\n",
      "| 3  |          []          |              ['Obj 1', 'Obj 2', 'Obj 3']               |     [2, 1]      |\n",
      "+----+----------------------+--------------------------------------------------------+-----------------+\n",
      "| 4  |      ['Attr 6']      |          ['Obj 1', 'Obj 3', 'Obj 4', 'Obj 6']          |                 |\n",
      "+----+----------------------+--------------------------------------------------------+-----------------+\n",
      "| 5  |          []          |                   ['Obj 1', 'Obj 3']                   |     [4, 2]      |\n",
      "+----+----------------------+--------------------------------------------------------+-----------------+\n",
      "| 6  |      ['Attr 5']      |              ['Obj 2', 'Obj 3', 'Obj 4']               |                 |\n",
      "+----+----------------------+--------------------------------------------------------+-----------------+\n",
      "| 7  |          []          |                   ['Obj 2', 'Obj 3']                   |     [6, 2]      |\n",
      "+----+----------------------+--------------------------------------------------------+-----------------+\n",
      "| 8  |          []          |                   ['Obj 3', 'Obj 4']                   |     [6, 4]      |\n",
      "+----+----------------------+--------------------------------------------------------+-----------------+\n",
      "| 9  |      ['Attr 7']      |                       ['Obj 3']                        |     [6, 5]      |\n",
      "+----+----------------------+--------------------------------------------------------+-----------------+\n",
      "| 10 |      ['Attr 3']      |                       ['Obj 4']                        |                 |\n",
      "+----+----------------------+--------------------------------------------------------+-----------------+\n",
      "| 11 |          []          |                           []                           |     [10, 2]     |\n",
      "+----+----------------------+--------------------------------------------------------+-----------------+\n"
     ]
    }
   ],
   "source": [
    "f.show_algorithm(df)"
   ]
  },
  {
   "cell_type": "markdown",
   "metadata": {},
   "source": [
    "### <u>Ver conceptos</u>"
   ]
  },
  {
   "cell_type": "code",
   "execution_count": 25,
   "metadata": {},
   "outputs": [
    {
     "name": "stdout",
     "output_type": "stream",
     "text": [
      "+----+------------------------------------------+--------------------------------------------------------+-----------------+\n",
      "|    |                ATTRIBUTES                |                        OBJECTS                         |  INTERSECTIONS  |\n",
      "+====+==========================================+========================================================+=================+\n",
      "| 0  |                    []                    | ['Obj 1', 'Obj 2', 'Obj 3', 'Obj 4', 'Obj 5', 'Obj 6'] |                 |\n",
      "+----+------------------------------------------+--------------------------------------------------------+-----------------+\n",
      "| 1  |                ['Attr 1']                |     ['Obj 1', 'Obj 2', 'Obj 3', 'Obj 4', 'Obj 6']      |                 |\n",
      "+----+------------------------------------------+--------------------------------------------------------+-----------------+\n",
      "| 2  |           ['Attr 2', 'Attr 4']           |          ['Obj 1', 'Obj 2', 'Obj 3', 'Obj 5']          |                 |\n",
      "+----+------------------------------------------+--------------------------------------------------------+-----------------+\n",
      "| 3  |      ['Attr 2', 'Attr 4', 'Attr 1']      |              ['Obj 1', 'Obj 2', 'Obj 3']               |     [2, 1]      |\n",
      "+----+------------------------------------------+--------------------------------------------------------+-----------------+\n",
      "| 4  |                ['Attr 6']                |          ['Obj 1', 'Obj 3', 'Obj 4', 'Obj 6']          |                 |\n",
      "+----+------------------------------------------+--------------------------------------------------------+-----------------+\n",
      "| 5  |      ['Attr 6', 'Attr 2', 'Attr 4']      |                   ['Obj 1', 'Obj 3']                   |     [4, 2]      |\n",
      "+----+------------------------------------------+--------------------------------------------------------+-----------------+\n",
      "| 6  |                ['Attr 5']                |              ['Obj 2', 'Obj 3', 'Obj 4']               |                 |\n",
      "+----+------------------------------------------+--------------------------------------------------------+-----------------+\n",
      "| 7  |      ['Attr 5', 'Attr 2', 'Attr 4']      |                   ['Obj 2', 'Obj 3']                   |     [6, 2]      |\n",
      "+----+------------------------------------------+--------------------------------------------------------+-----------------+\n",
      "| 8  |           ['Attr 5', 'Attr 6']           |                   ['Obj 3', 'Obj 4']                   |     [6, 4]      |\n",
      "+----+------------------------------------------+--------------------------------------------------------+-----------------+\n",
      "| 9  | ['Attr 5', 'Attr 6', 'Attr 2', 'Attr 4'] |                       ['Obj 3']                        |     [6, 5]      |\n",
      "+----+------------------------------------------+--------------------------------------------------------+-----------------+\n",
      "| 10 |                ['Attr 3']                |                       ['Obj 4']                        |                 |\n",
      "+----+------------------------------------------+--------------------------------------------------------+-----------------+\n",
      "| 11 |      ['Attr 3', 'Attr 2', 'Attr 4']      |                           []                           |     [10, 2]     |\n",
      "+----+------------------------------------------+--------------------------------------------------------+-----------------+\n"
     ]
    }
   ],
   "source": [
    "f.show_concepts(df)"
   ]
  },
  {
   "cell_type": "markdown",
   "metadata": {},
   "source": [
    "### <u>Clasificación de atributos</u>"
   ]
  },
  {
   "cell_type": "code",
   "execution_count": 26,
   "metadata": {},
   "outputs": [
    {
     "name": "stdout",
     "output_type": "stream",
     "text": [
      "+------------+------------------------------------------+------------------------+---------------+\n",
      "|            |           Absolutely Necessary           |  Relatively Necessary  |  Unnecessary  |\n",
      "+============+==========================================+========================+===============+\n",
      "| ATTRIBUTES | ['Attr 1', 'Attr 6', 'Attr 5', 'Attr 3'] |  ['Attr 2', 'Attr 4']  |  ['Attr 7']   |\n",
      "+------------+------------------------------------------+------------------------+---------------+\n"
     ]
    }
   ],
   "source": [
    "f.show_att_clasification(df)"
   ]
  },
  {
   "cell_type": "markdown",
   "metadata": {},
   "source": [
    "### <u>Clasificación de objetos</u>"
   ]
  },
  {
   "cell_type": "code",
   "execution_count": 27,
   "metadata": {},
   "outputs": [
    {
     "name": "stdout",
     "output_type": "stream",
     "text": [
      "+------------+-----------------------------------------------+------------------------+---------------+\n",
      "|            |             Absolutely Necessary              |  Relatively Necessary  |  Unnecessary  |\n",
      "+============+===============================================+========================+===============+\n",
      "| ATTRIBUTES | ['Obj 3', 'Obj 1', 'Obj 2', 'Obj 4', 'Obj 5'] |           []           |   ['Obj 6']   |\n",
      "+------------+-----------------------------------------------+------------------------+---------------+\n"
     ]
    }
   ],
   "source": [
    "f.show_obj_clasification(df)"
   ]
  },
  {
   "cell_type": "markdown",
   "metadata": {},
   "source": [
    "### <u>Conjunto de los conceptos ínfimo irreducibles</u>"
   ]
  },
  {
   "cell_type": "code",
   "execution_count": 28,
   "metadata": {},
   "outputs": [
    {
     "name": "stdout",
     "output_type": "stream",
     "text": [
      "+----+----------------------+-----------------------------------------------+\n",
      "|    |      ATTRIBUTES      |                    OBJECTS                    |\n",
      "+====+======================+===============================================+\n",
      "| 0  |      ['Attr 1']      | ['Obj 1', 'Obj 2', 'Obj 3', 'Obj 4', 'Obj 6'] |\n",
      "+----+----------------------+-----------------------------------------------+\n",
      "| 1  | ['Attr 2', 'Attr 4'] |     ['Obj 1', 'Obj 2', 'Obj 3', 'Obj 5']      |\n",
      "+----+----------------------+-----------------------------------------------+\n",
      "| 2  |      ['Attr 6']      |     ['Obj 1', 'Obj 3', 'Obj 4', 'Obj 6']      |\n",
      "+----+----------------------+-----------------------------------------------+\n",
      "| 3  |      ['Attr 5']      |          ['Obj 2', 'Obj 3', 'Obj 4']          |\n",
      "+----+----------------------+-----------------------------------------------+\n",
      "| 4  |      ['Attr 3']      |                   ['Obj 4']                   |\n",
      "+----+----------------------+-----------------------------------------------+\n"
     ]
    }
   ],
   "source": [
    "f.show_Mf(df)"
   ]
  },
  {
   "cell_type": "markdown",
   "metadata": {},
   "source": [
    "### <u>Conjunto de los conceptos supremo irreducibles</u>"
   ]
  },
  {
   "cell_type": "code",
   "execution_count": 29,
   "metadata": {},
   "outputs": [
    {
     "name": "stdout",
     "output_type": "stream",
     "text": [
      "+----+--------------------------------------------------------------+-----------+\n",
      "|    |                          ATTRIBUTES                          |  OBJECTS  |\n",
      "+====+==============================================================+===========+\n",
      "| 0  | ['Attr 1', 'Attr 2', 'Attr 4', 'Attr 5', 'Attr 6', 'Attr 7'] | ['Obj 3'] |\n",
      "+----+--------------------------------------------------------------+-----------+\n",
      "| 1  |           ['Attr 1', 'Attr 2', 'Attr 4', 'Attr 6']           | ['Obj 1'] |\n",
      "+----+--------------------------------------------------------------+-----------+\n",
      "| 2  |           ['Attr 1', 'Attr 2', 'Attr 4', 'Attr 5']           | ['Obj 2'] |\n",
      "+----+--------------------------------------------------------------+-----------+\n",
      "| 3  |           ['Attr 1', 'Attr 3', 'Attr 5', 'Attr 6']           | ['Obj 4'] |\n",
      "+----+--------------------------------------------------------------+-----------+\n",
      "| 4  |                     ['Attr 2', 'Attr 4']                     | ['Obj 5'] |\n",
      "+----+--------------------------------------------------------------+-----------+\n"
     ]
    }
   ],
   "source": [
    "f.show_Jf(df)"
   ]
  }
 ],
 "metadata": {
  "kernelspec": {
   "display_name": "Python 3",
   "language": "python",
   "name": "python3"
  },
  "language_info": {
   "codemirror_mode": {
    "name": "ipython",
    "version": 3
   },
   "file_extension": ".py",
   "mimetype": "text/x-python",
   "name": "python",
   "nbconvert_exporter": "python",
   "pygments_lexer": "ipython3",
   "version": "3.11.9"
  }
 },
 "nbformat": 4,
 "nbformat_minor": 2
}
